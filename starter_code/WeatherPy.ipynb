{
 "cells": [
  {
   "cell_type": "markdown",
   "metadata": {},
   "source": [
    "# WeatherPy\n",
    "----\n",
    "\n",
    "#### Note\n",
    "* Instructions have been included for each segment. You do not have to follow them exactly, but they are included to help you think through the steps."
   "\n,"
    "* Instruct"
   ]
  },
  {
   "cell_type": "code",
   "execution_count": 18,
   "metadata": {
    "scrolled": true
   },
   "outputs": [],
   "source": [
    "# Dependencies and Setup\n",
    "import matplotlib.pyplot as plt\n",
    "import pandas as pd\n",
    "import numpy as np\n",
    "import requests\n",
    "import time\n",
    "\n",
    "# Import API key\n",
    "from api_keys import api_key\n",
    "\n",
    "# Incorporated citipy to determine city based on latitude and longitude\n",
    "from citipy import citipy\n",
    "\n",
    "# Output File (CSV)\n",
    "output_data_file = \"output_data/cities.csv\"\n",
    "\n",
    "# Range of latitudes and longitudes\n",
    "lat_range = (-90, 90)\n",
    "lng_range = (-180, 180)"
   ]
  },
  {
   "cell_type": "markdown",
   "metadata": {},
   "source": [
    "## Generate Cities List"
   ]
  },
  {
   "cell_type": "code",
   "execution_count": 22,
   "metadata": {},
   "outputs": [
    {
     "name": "stdout",
     "output_type": "stream",
     "text": [
      "http://api.openweathermap.org/data/2.5/weather?appid=d1949e0a32b268139770b74348a04f3b\n"
     ]
    }
   ],
   "source": [
    "# List for holding lat_lngs and cities\n",
    "lat_lngs = []\n",
    "cities = []\n",
    "\n",
    "# Create a set of random lat and lng combinations\n",
    "lats = np.random.uniform(low=-90.000, high=90.000, size=1500)\n",
    "lngs = np.random.uniform(low=-180.000, high=180.000, size=1500)\n",
    "lat_lngs = zip(lats, lngs)\n",
    "\n",
    "# Identify nearest city for each lat, lng combination\n",
    "for lat_lng in lat_lngs:\n",
    "    city = citipy.nearest_city(lat_lng[0], lat_lng[1]).city_name\n",
    "    \n",
    "    # If the city is unique, then add it to a our cities list\n",
    "    if city not in cities:\n",
    "        cities.append(city)\n",
    "\n",
    "# Print the city count to confirm sufficient count\n",
    "len(cities)\n",
    "url = \"http://api.openweathermap.org/data/2.5/weather?\" + \"appid=\" + api_key\n",
    "print(url)"
   ]
  },
  {
   "cell_type": "code",
   "execution_count": 58,
   "metadata": {},
   "outputs": [
    {
     "name": "stdout",
     "output_type": "stream",
     "text": [
      "['tuktoyaktuk', 'ahualulco', 'nikolskoye', 'albany', 'bethel', 'new norfolk', 'ushuaia', 'kapaa', 'severo-kurilsk', 'belushya guba', 'port-cartier', 'tasiilaq', 'hermanus', 'avarua', 'udachnyy', 'fare', 'haines junction', 'rikitea', 'pevek', 'mataura', 'thompson', 'portobelo', 'tatawin', 'dauphin', 'castro', 'zhigansk', 'santa rosa', 'saint-philippe', 'bireun', 'bhan', 'salalah', 'bengkulu', 'busselton', 'grimshaw', 'taolanaro', 'shache', 'te anau', 'tsihombe', 'cidreira', 'port alfred', 'sao joao da barra', 'east london', 'mys shmidta', 'sao filipe', 'maceio', 'cuiluan', 'jamestown', 'yar-sale', 'kushima', 'ponta do sol', 'san patricio', 'samarai', 'yellowknife', 'khatanga', 'punta arenas', 'cape town', 'cabo san lucas', 'wad madani', 'mana', 'los llanos de aridane', 'noumea', 'kieta', 'namwala', 'mayo', 'mahebourg', 'houma', 'mukdahan', 'havelock', 'narsaq', 'talnakh', 'bredasdorp', 'iquitos', 'nileshwar', 'lebu', 'san juan bautista', 'hofn', 'baoqing', 'sentyabrskiy', 'hithadhoo', 'komsomolskiy', 'independence', 'iqaluit', 'bandarbeyla', 'qaanaaq', 'hearst', 'airai', 'filimonovo', 'port keats', 'groningen', 'georgetown', 'kaitangata', 'walvis bay', 'melilla', 'gao', 'hilo', 'anloga', 'esperance', 'paamiut', 'bluff', 'ulaangom', 'neuquen', 'faanui', 'vaitape', 'tumannyy', 'atuona', 'seoni', 'keningau', 'puerto ayora', 'tiksi', 'carnarvon', 'yinchuan', 'butaritari', 'lavrentiya', 'dikson', 'provideniya', 'iquique', 'jaipur hat', 'campbell river', 'lhanbryde', 'mizan teferi', 'sola', 'juarez', 'la rioja', 'nemchinovka', 'ostrovnoy', 'odessa', 'umzimvubu', 'klaksvik', 'san jose de rio tinto', 'vila velha', 'san carlos de bariloche', 'tautira', 'nuuk', 'katsuura', 'cayenne', 'grindavik', 'mar del plata', 'bokspits', 'hamilton', 'leningradskiy', 'hobart', 'sitka', 'kavieng', 'sinnamary', 'matay', 'marcona', 'maralal', 'codrington', 'asmara', 'la ronge', 'henties bay', 'chernaya kholunitsa', 'khandyga', 'chokurdakh', 'alofi', 'norman wells', 'tete', 'galesong', 'malayal', 'chuy', 'orsha', 'kropotkin', 'rafai', 'vostok', 'northport', 'grand river south east', 'vaini', 'ancud', 'rawson', 'state college', 'eyl', 'cherskiy', 'festus', 'perth', 'kuche', 'yulara', 'attawapiskat', 'atar', 'almaznyy', 'guozhen', 'kisoro', 'amderma', 'floro', 'angoche', 'antofagasta', 'chaiyaphum', 'upernavik', 'kodiak', 'mount pleasant', 'aklavik', 'jishui', 'broken hill', 'kisangani', 'launceston', 'santarem', 'kamenskoye', 'peruibe', 'fortuna', 'dong xoai', 'la asuncion', 'sorong', 'arkhangelsk', 'longyearbyen', 'kathmandu', 'kualakapuas', 'mahanoro', 'illoqqortoormiut', 'isangel', 'san cristobal', 'novikovo', 'cabral', 'carutapera', 'barrow', 'ribeira grande', 'kutum', 'garowe', 'erie', 'puerto escondido', 'mecca', 'nizhneyansk', 'bairiki', 'tuatapere', 'conakry', 'port macquarie', 'timmins', 'baiyin', 'westpunt', 'oranjestad', 'kapit', 'kosmynino', 'lagoa', 'guerrero negro', 'wangqing', 'ulaanbaatar', 'pisco', 'pitimbu', 'mitu', 'alexandria', 'tombouctou', 'afanasyevo', 'ojuelos de jalisco', 'aykhal', 'matara', 'russell', 'poltavka', 'slave lake', 'cortes', 'ardistan', 'port said', 'lorengau', 'kruisfontein', 'denpasar', 'chabahar', 'bubaque', 'pimenta bueno', 'krasnyy yar', 'geraldton', 'port-gentil', 'nacala', 'flinders', 'kattivakkam', 'artyk', 'melfi', 'bowen', 'college', 'whitehorse', 'srednekolymsk', 'sorland', 'cumaribo', 'gushikawa', 'sangar', 'urambo', 'utmanzai', 'portland', 'tricase', 'plettenberg bay', 'riyadh', 'oranjemund', 'tabiauea', 'lolua', 'mildura', 'biak', 'mount isa', 'aksarka', 'shubarkuduk', 'vung tau', 'saldanha', 'boende', 'hami', 'saint-gilles', 'port hardy', 'camacha', 'jalu', 'nishihara', 'kunming', 'phan rang', 'tlaxiaco', 'half moon bay', 'alice springs', 'sunndalsora', 'torbay', 'saint-francois', 'hasaki', 'bambous virieux', 'constitucion', 'havoysund', 'turkan', 'port lincoln', 'rong kwang', 'yuzhno-kurilsk', 'victoria', 'hengshui', 'kahului', 'barentsburg', 'nassau', 'rocha', 'lao cai', 'san quintin', 'cabedelo', 'saskylakh', 'skibbereen', 'richards bay', 'kenai', 'popondetta', 'baykit', 'waddan', 'high level', 'zheleznodorozhnyy', 'pativilca', 'beringovskiy', 'plainfield', 'boueni', 'ahipara', 'chapais', 'shimoda', 'buraydah', 'nemuro', 'arraial do cabo', 'orgun', 'puerto cabello', 'abancay', 'souillac', 'palauig', 'deputatskiy', 'rio grande', 'chilia veche', 'verkhnyaya inta', 'lima', 'watsa', 'mehamn', 'vardo', 'yumen', 'belaya gora', 'ngukurr', 'dudinka', 'vegreville', 'lompoc', 'dalhousie', 'paramonga', 'ilulissat', 'gloucester', 'proletarsk', 'atbasar', 'hambantota', 'yangjiang', 'sobolevo', 'sur', 'luderitz', 'tignere', 'upington', 'baghdad', 'straumen', 'puyo', 'miraflores', 'namatanai', 'zaria', 'hobyo', 'ixtapa', 'askino', 'northfield', 'caravelas', 'celestun', 'motygino', 'atikokan', 'sabang', 'tarauaca', 'grand-santi', 'nanzhou', 'takoradi', 'sept-iles', 'kawerau', 'florence', 'la union', 'tsienyane', 'wilmington', 'coquimbo', 'nguiu', 'bakchar', 'genoa', 'saint-denis', 'bontang', 'sattahip', 'shima', 'otane', 'pozo colorado', 'caruray', 'mumford', 'honiara', 'clyde river', 'dingle', 'tkvarcheli', 'maamba', 'agadez', 'ouranopolis', 'vagay', 'altay', 'saint-joseph', 'asau', 'kandrian', 'karratha', 'santiago', 'moram', 'temaraia', 'ca mau', 'tutoia', 'salinopolis', 'jumla', 'abu dhabi', 'san borja', 'tsabong', 'silvino lobos', 'manyana', 'okhotsk', 'esmeraldas', 'akyab', 'winder', 'nanortalik', 'yanam', 'tharrawaddy', 'penzance', 'fethiye', 'toora-khem', 'ternate', 'arona', 'pakxan', 'coruripe', 'shostka', 'shelburne', 'tevaitoa', 'san ramon', 'egvekinot', 'hailey', 'concordia', 'padang', 'da nang', 'ormara', 'barra do garcas', 'bad neustadt', 'jasper', 'nome', 'saint george', 'bucerias', 'hirara', 'esil', 'de aar', 'muros', 'agutaya', 'gweta', 'west wendover', 'irtyshskiy', 'viedma', 'gorontalo', 'mandalgovi', 'charters towers', 'turan', 'swellendam', 'ginir', 'lamu', 'muncar', 'ilo', 'puerto baquerizo moreno', 'karpathos', 'goderich', 'jojoima', 'rundu', 'buenos aires', 'kedougou', 'makakilo city', 'bakal', 'moju', 'mizpe ramon', 'zhezkazgan', 'waingapu', 'dalbandin', 'macroom', 'krasnoarmeysk', 'atambua', 'necochea', 'northam', 'bathsheba', 'cockburn town', 'calatayud', 'westport', 'san jeronimo', 'gornyy', 'port elizabeth', 'morondava', 'tazovskiy', 'boa vista', 'bataipora', 'jambol', 'mme', 'farah', 'roswell', 'barbacena', 'urucara', 'zyryanka', 'lebyazhye', 'daru', 'rupert', 'hammond', 'baruun-urt', 'grand gaube', 'jeremie', 'evensk', 'sisimiut', 'fomboni', 'quatre cocos', 'samusu', 'pedernales', 'mahad', 'tokonou', 'bucovice', 'krasnovishersk', 'mengcheng', 'pangody', 'petatlan', 'olafsvik', 'piney green', 'leshukonskoye', 'fairbanks', 'qaqortoq', 'vaitupu', 'mortka', 'luena', 'kuusamo', 'samalaeulu', 'mao', 'albion', 'lenki', 'grand-lahou', 'luanda', 'tezu', 'kitimat', 'narasannapeta', 'touros', 'red bluff', 'alta floresta', 'port blair', 'mondlo', 'barbar', 'san policarpo', 'sambava', 'kapoeta', 'husavik', 'turkistan', 'saleaula', 'cururupu', 'saint anthony', 'yerbogachen', 'longonjo', 'cauquenes', 'avera', 'kurilsk', 'chernogorsk', 'manzanillo', 'hay river', 'dondo', 'aden', 'baherden', 'oxford', 'vagur', 'gornopravdinsk', 'calabozo', 'ondangwa', 'wokha', 'golden', 'daraitan', 'xingyi', 'pangai', 'north berwick', 'panama city', 'cap malheureux']\n"
     ]
    }
   ],
   "source": [
    "print(cities)"
   ]
  },
  {
   "cell_type": "markdown",
   "metadata": {},
   "source": [
    "### Perform API Calls\n",
    "* Perform a weather check on each city using a series of successive API calls.\n",
    "* Include a print log of each city as it'sbeing processed (with the city number and city name).\n"
   ]
  },
  {
   "cell_type": "code",
   "execution_count": 80,
   "metadata": {},
   "outputs": [],
   "source": [
    "final_cities=[]\n",
    "cloudiness=[]\n",
    "country=[]\n",
    "date=[]\n",
    "humidity=[]\n",
    "lat=[]\n",
    "lng=[]\n",
    "max_temp=[]\n",
    "wind_speed=[]\n",
    "query_url = url + \"&q=\" + \"belushya guba\""
   ]
  },
  {
   "cell_type": "code",
   "execution_count": 81,
   "metadata": {},
   "outputs": [
    {
     "name": "stdout",
     "output_type": "stream",
     "text": [
      "The weather API responded with: {'cod': '404', 'message': 'city not found'}.\n"
     ]
    }
   ],
   "source": [
    "weather_response = requests.get(query_url)\n",
    "weather_json = weather_response.json()\n",
    "\n",
    "# Get the temperature from the response\n",
    "print(f\"The weather API responded with: {weather_json}.\")"
   ]
  },
  {
   "cell_type": "code",
   "execution_count": null,
   "metadata": {},
   "outputs": [],
   "source": []
  },
  {
   "cell_type": "code",
   "execution_count": 82,
   "metadata": {},
   "outputs": [
    {
     "name": "stdout",
     "output_type": "stream",
     "text": [
      "tuktoyaktuk\n",
      "ahualulco\n",
      "nikolskoye\n",
      "albany\n",
      "bethel\n",
      "new norfolk\n",
      "ushuaia\n",
      "kapaa\n",
      "severo-kurilsk\n",
      "Well that didn't work\n",
      "port-cartier\n",
      "tasiilaq\n",
      "hermanus\n",
      "avarua\n",
      "udachnyy\n",
      "fare\n",
      "haines junction\n",
      "rikitea\n",
      "pevek\n",
      "mataura\n",
      "thompson\n",
      "portobelo\n",
      "Well that didn't work\n",
      "dauphin\n",
      "castro\n",
      "zhigansk\n",
      "santa rosa\n",
      "saint-philippe\n",
      "bireun\n",
      "bhan\n",
      "salalah\n",
      "Well that didn't work\n",
      "busselton\n",
      "grimshaw\n",
      "Well that didn't work\n",
      "shache\n",
      "te anau\n",
      "Well that didn't work\n",
      "cidreira\n",
      "port alfred\n",
      "sao joao da barra\n",
      "east london\n",
      "Well that didn't work\n",
      "sao filipe\n",
      "maceio\n",
      "cuiluan\n",
      "jamestown\n",
      "yar-sale\n",
      "kushima\n",
      "ponta do sol\n",
      "san patricio\n",
      "samarai\n",
      "yellowknife\n",
      "khatanga\n",
      "punta arenas\n",
      "cape town\n",
      "cabo san lucas\n",
      "Well that didn't work\n",
      "mana\n",
      "los llanos de aridane\n",
      "noumea\n",
      "kieta\n",
      "namwala\n",
      "mayo\n",
      "mahebourg\n",
      "houma\n",
      "mukdahan\n",
      "havelock\n",
      "narsaq\n",
      "talnakh\n",
      "bredasdorp\n",
      "iquitos\n",
      "nileshwar\n",
      "lebu\n",
      "san juan bautista\n",
      "hofn\n",
      "baoqing\n",
      "Well that didn't work\n",
      "hithadhoo\n",
      "komsomolskiy\n",
      "independence\n",
      "iqaluit\n",
      "bandarbeyla\n",
      "qaanaaq\n",
      "hearst\n",
      "airai\n",
      "filimonovo\n",
      "port keats\n",
      "groningen\n",
      "georgetown\n",
      "kaitangata\n",
      "walvis bay\n",
      "melilla\n",
      "gao\n",
      "hilo\n",
      "anloga\n",
      "esperance\n",
      "paamiut\n",
      "bluff\n",
      "ulaangom\n",
      "neuquen\n",
      "faanui\n",
      "vaitape\n",
      "Well that didn't work\n",
      "atuona\n",
      "seoni\n",
      "keningau\n",
      "puerto ayora\n",
      "tiksi\n",
      "carnarvon\n",
      "yinchuan\n",
      "butaritari\n",
      "lavrentiya\n",
      "dikson\n",
      "provideniya\n",
      "iquique\n",
      "Well that didn't work\n",
      "campbell river\n",
      "lhanbryde\n",
      "mizan teferi\n",
      "sola\n",
      "juarez\n",
      "la rioja\n",
      "nemchinovka\n",
      "ostrovnoy\n",
      "odessa\n",
      "Well that didn't work\n",
      "klaksvik\n",
      "san jose de rio tinto\n",
      "vila velha\n",
      "san carlos de bariloche\n",
      "tautira\n",
      "nuuk\n",
      "katsuura\n",
      "cayenne\n",
      "grindavik\n",
      "mar del plata\n",
      "Well that didn't work\n",
      "hamilton\n",
      "leningradskiy\n",
      "hobart\n",
      "sitka\n",
      "kavieng\n",
      "sinnamary\n",
      "matay\n",
      "Well that didn't work\n",
      "maralal\n",
      "codrington\n",
      "asmara\n",
      "la ronge\n",
      "henties bay\n",
      "chernaya kholunitsa\n",
      "khandyga\n",
      "chokurdakh\n",
      "alofi\n",
      "norman wells\n",
      "tete\n",
      "galesong\n",
      "malayal\n",
      "chuy\n",
      "orsha\n",
      "kropotkin\n",
      "rafai\n",
      "vostok\n",
      "northport\n",
      "Well that didn't work\n",
      "vaini\n",
      "ancud\n",
      "rawson\n",
      "state college\n",
      "eyl\n",
      "cherskiy\n",
      "festus\n",
      "perth\n",
      "Well that didn't work\n",
      "yulara\n",
      "Well that didn't work\n",
      "atar\n",
      "almaznyy\n",
      "guozhen\n",
      "kisoro\n",
      "Well that didn't work\n",
      "floro\n",
      "angoche\n",
      "antofagasta\n",
      "chaiyaphum\n",
      "upernavik\n",
      "kodiak\n",
      "mount pleasant\n",
      "aklavik\n",
      "jishui\n",
      "broken hill\n",
      "kisangani\n",
      "launceston\n",
      "Well that didn't work\n",
      "Well that didn't work\n",
      "peruibe\n",
      "fortuna\n",
      "dong xoai\n",
      "la asuncion\n",
      "sorong\n",
      "arkhangelsk\n",
      "longyearbyen\n",
      "kathmandu\n",
      "kualakapuas\n",
      "mahanoro\n",
      "Well that didn't work\n",
      "isangel\n",
      "san cristobal\n",
      "novikovo\n",
      "cabral\n",
      "carutapera\n",
      "barrow\n",
      "ribeira grande\n",
      "kutum\n",
      "garowe\n",
      "erie\n",
      "puerto escondido\n",
      "mecca\n",
      "Well that didn't work\n",
      "Well that didn't work\n",
      "tuatapere\n",
      "conakry\n",
      "port macquarie\n",
      "timmins\n",
      "baiyin\n",
      "Well that didn't work\n",
      "oranjestad\n",
      "kapit\n",
      "kosmynino\n",
      "lagoa\n",
      "guerrero negro\n",
      "wangqing\n",
      "ulaanbaatar\n",
      "pisco\n",
      "pitimbu\n",
      "mitu\n",
      "alexandria\n",
      "tombouctou\n",
      "Well that didn't work\n",
      "ojuelos de jalisco\n",
      "aykhal\n",
      "matara\n",
      "russell\n",
      "poltavka\n",
      "slave lake\n",
      "cortes\n",
      "Well that didn't work\n",
      "port said\n",
      "lorengau\n",
      "kruisfontein\n",
      "denpasar\n",
      "chabahar\n",
      "bubaque\n",
      "pimenta bueno\n",
      "krasnyy yar\n",
      "geraldton\n",
      "port-gentil\n",
      "nacala\n",
      "flinders\n",
      "kattivakkam\n",
      "Well that didn't work\n",
      "melfi\n",
      "bowen\n",
      "college\n",
      "whitehorse\n",
      "srednekolymsk\n",
      "sorland\n",
      "Well that didn't work\n",
      "gushikawa\n",
      "sangar\n",
      "urambo\n",
      "utmanzai\n",
      "portland\n",
      "tricase\n",
      "plettenberg bay\n",
      "riyadh\n",
      "oranjemund\n",
      "Well that didn't work\n",
      "Well that didn't work\n",
      "mildura\n",
      "biak\n",
      "mount isa\n",
      "aksarka\n",
      "shubarkuduk\n",
      "vung tau\n",
      "saldanha\n",
      "boende\n",
      "hami\n",
      "saint-gilles\n",
      "port hardy\n",
      "camacha\n",
      "jalu\n",
      "nishihara\n",
      "kunming\n",
      "Well that didn't work\n",
      "Well that didn't work\n",
      "half moon bay\n",
      "alice springs\n",
      "sunndalsora\n",
      "torbay\n",
      "saint-francois\n",
      "hasaki\n",
      "bambous virieux\n",
      "constitucion\n",
      "havoysund\n",
      "turkan\n",
      "port lincoln\n",
      "rong kwang\n",
      "yuzhno-kurilsk\n",
      "victoria\n",
      "hengshui\n",
      "kahului\n",
      "Well that didn't work\n",
      "nassau\n",
      "rocha\n",
      "lao cai\n",
      "san quintin\n",
      "cabedelo\n",
      "saskylakh\n",
      "skibbereen\n",
      "richards bay\n",
      "kenai\n",
      "popondetta\n",
      "baykit\n",
      "waddan\n",
      "high level\n",
      "zheleznodorozhnyy\n",
      "pativilca\n",
      "beringovskiy\n",
      "plainfield\n",
      "boueni\n",
      "ahipara\n",
      "chapais\n",
      "shimoda\n",
      "buraydah\n",
      "nemuro\n",
      "arraial do cabo\n",
      "Well that didn't work\n",
      "puerto cabello\n",
      "abancay\n",
      "souillac\n",
      "palauig\n",
      "deputatskiy\n",
      "rio grande\n",
      "chilia veche\n",
      "verkhnyaya inta\n",
      "lima\n",
      "watsa\n",
      "mehamn\n",
      "vardo\n",
      "yumen\n",
      "belaya gora\n",
      "Well that didn't work\n",
      "dudinka\n",
      "vegreville\n",
      "lompoc\n",
      "dalhousie\n",
      "paramonga\n",
      "ilulissat\n",
      "gloucester\n",
      "proletarsk\n",
      "atbasar\n",
      "hambantota\n",
      "yangjiang\n",
      "sobolevo\n",
      "sur\n",
      "luderitz\n",
      "tignere\n",
      "upington\n",
      "baghdad\n",
      "straumen\n",
      "puyo\n",
      "miraflores\n",
      "namatanai\n",
      "zaria\n",
      "hobyo\n",
      "ixtapa\n",
      "askino\n",
      "northfield\n",
      "caravelas\n",
      "celestun\n",
      "motygino\n",
      "atikokan\n",
      "sabang\n",
      "tarauaca\n",
      "grand-santi\n",
      "nanzhou\n",
      "takoradi\n",
      "sept-iles\n",
      "kawerau\n",
      "florence\n",
      "la union\n",
      "Well that didn't work\n",
      "wilmington\n",
      "coquimbo\n",
      "Well that didn't work\n",
      "bakchar\n",
      "genoa\n",
      "saint-denis\n",
      "bontang\n",
      "sattahip\n",
      "shima\n",
      "otane\n",
      "pozo colorado\n",
      "caruray\n",
      "mumford\n",
      "honiara\n",
      "clyde river\n",
      "dingle\n",
      "Well that didn't work\n",
      "maamba\n",
      "agadez\n",
      "Well that didn't work\n",
      "vagay\n",
      "altay\n",
      "saint-joseph\n",
      "Well that didn't work\n",
      "kandrian\n",
      "karratha\n",
      "santiago\n",
      "moram\n",
      "Well that didn't work\n",
      "ca mau\n",
      "tutoia\n",
      "salinopolis\n",
      "jumla\n",
      "abu dhabi\n",
      "san borja\n",
      "tsabong\n",
      "silvino lobos\n",
      "manyana\n",
      "okhotsk\n",
      "esmeraldas\n",
      "Well that didn't work\n",
      "winder\n",
      "nanortalik\n",
      "yanam\n",
      "Well that didn't work\n",
      "penzance\n",
      "fethiye\n",
      "toora-khem\n",
      "ternate\n",
      "arona\n",
      "pakxan\n",
      "coruripe\n",
      "shostka\n",
      "shelburne\n",
      "tevaitoa\n",
      "san ramon\n",
      "egvekinot\n",
      "hailey\n",
      "concordia\n",
      "padang\n",
      "Well that didn't work\n",
      "ormara\n",
      "barra do garcas\n",
      "Well that didn't work\n",
      "jasper\n",
      "nome\n",
      "saint george\n",
      "bucerias\n",
      "hirara\n",
      "esil\n",
      "de aar\n",
      "muros\n",
      "agutaya\n",
      "gweta\n",
      "west wendover\n",
      "irtyshskiy\n",
      "viedma\n",
      "gorontalo\n",
      "mandalgovi\n",
      "charters towers\n",
      "turan\n",
      "swellendam\n",
      "ginir\n",
      "lamu\n",
      "muncar\n",
      "ilo\n",
      "puerto baquerizo moreno\n",
      "karpathos\n",
      "goderich\n",
      "jojoima\n",
      "rundu\n",
      "buenos aires\n",
      "kedougou\n",
      "makakilo city\n",
      "bakal\n",
      "moju\n",
      "Well that didn't work\n",
      "zhezkazgan\n",
      "waingapu\n",
      "dalbandin\n",
      "macroom\n",
      "krasnoarmeysk\n",
      "atambua\n",
      "necochea\n",
      "northam\n",
      "bathsheba\n",
      "cockburn town\n",
      "calatayud\n",
      "westport\n",
      "san jeronimo\n",
      "gornyy\n",
      "port elizabeth\n",
      "morondava\n",
      "tazovskiy\n",
      "boa vista\n",
      "bataipora\n",
      "Well that didn't work\n",
      "Well that didn't work\n",
      "farah\n",
      "roswell\n",
      "barbacena\n",
      "urucara\n",
      "zyryanka\n",
      "lebyazhye\n",
      "daru\n",
      "rupert\n",
      "hammond\n",
      "baruun-urt\n",
      "grand gaube\n",
      "jeremie\n",
      "evensk\n",
      "sisimiut\n",
      "fomboni\n",
      "quatre cocos\n",
      "Well that didn't work\n",
      "pedernales\n",
      "mahad\n",
      "tokonou\n",
      "bucovice\n",
      "krasnovishersk\n",
      "mengcheng\n",
      "pangody\n",
      "petatlan\n",
      "Well that didn't work\n",
      "piney green\n",
      "leshukonskoye\n",
      "fairbanks\n",
      "qaqortoq\n",
      "Well that didn't work\n",
      "mortka\n",
      "luena\n",
      "kuusamo\n",
      "Well that didn't work\n",
      "mao\n",
      "albion\n",
      "Well that didn't work\n",
      "grand-lahou\n",
      "luanda\n",
      "tezu\n",
      "kitimat\n",
      "narasannapeta\n",
      "touros\n",
      "red bluff\n",
      "alta floresta\n",
      "port blair\n",
      "mondlo\n",
      "Well that didn't work\n",
      "san policarpo\n",
      "sambava\n",
      "Well that didn't work\n",
      "husavik\n",
      "Well that didn't work\n",
      "Well that didn't work\n",
      "cururupu\n",
      "saint anthony\n",
      "yerbogachen\n",
      "longonjo\n",
      "cauquenes\n",
      "avera\n",
      "kurilsk\n",
      "chernogorsk\n",
      "manzanillo\n",
      "hay river\n",
      "dondo\n",
      "aden\n",
      "baherden\n",
      "oxford\n",
      "vagur\n",
      "gornopravdinsk\n",
      "calabozo\n",
      "ondangwa\n",
      "wokha\n",
      "golden\n",
      "daraitan\n",
      "xingyi\n",
      "pangai\n",
      "north berwick\n",
      "panama city\n",
      "cap malheureux\n"
     ]
    }
   ],
   "source": [
    "for city in cities:\n",
    "    query_url = url + \"&q=\" + city + \"&units=imperial\"\n",
    "    weather_response = requests.get(query_url)\n",
    "    weather_json = weather_response.json()\n",
    "    try: \n",
    "        lat.append(weather_json['coord']['lat'])\n",
    "        lng.append(weather_json['coord']['lon'])\n",
    "        cloudiness.append(weather_json['clouds']['all'])\n",
    "        humidity.append(weather_json['main']['humidity'])\n",
    "        max_temp.append(weather_json['main']['temp_max'])\n",
    "        wind_speed.append(weather_json['wind']['speed'])\n",
    "        date.append(weather_json['dt'])\n",
    "        final_cities.append(city)\n",
    "        print(city)\n",
    "    except:\n",
    "        print(\"Well that didn't work\")"
   ]
  },
  {
   "cell_type": "markdown",
   "metadata": {},
   "source": [
    "### Convert Raw Data to DataFrame\n",
    "* Export the city data into a .csv.\n",
    "* Display the DataFrame"
   ]
  },
  {
   "cell_type": "code",
   "execution_count": 86,
   "metadata": {},
   "outputs": [
    {
     "data": {
      "text/plain": [
       "'City,Date,Cloudiness,Humidity,Latitude,Longitude,Max Temperature,Wind Speed\\ntuktoyaktuk,1574006177,75,77,69.44,-133.03,-2.2,9.17\\nahualulco,1574005899,90,87,22.4,-101.17,53.6,1.5\\nnikolskoye,1574006177,75,93,59.7,30.79,46.0,6.71\\nalbany,1574006177,20,36,42.65,-73.75,33.01,4.0\\nbethel,1574006103,90,84,60.79,-161.76,8.6,5.82\\nnew norfolk,1574005899,40,50,-42.78,147.06,51.8,17.22\\nushuaia,1574006178,75,76,-54.81,-68.31,48.2,17.22\\nkapaa,1574006178,75,100,22.08,-159.32,75.2,6.93\\nsevero-kurilsk,1574006178,97,80,50.68,156.12,20.26,7.38\\nport-cartier,1574005899,20,57,50.03,-66.88,25.0,6.93\\ntasiilaq,1574006178,75,58,65.61,-37.64,30.2,29.97\\nhermanus,1574006178,1,60,-34.42,19.24,64.0,7.0\\navarua,1574006178,5,88,-21.21,-159.78,71.6,3.36\\nudachnyy,1574005899,90,83,66.42,112.4,-9.4,4.41\\nfare,1574006178,99,85,-16.7,-151.02,78.71,18.21\\nhaines junction,1574005899,100,96,60.75,-137.51,26.83,4.47\\nrikitea,1574006178,0,84,-23.12,-134.97,74.75,9.98\\npevek,1574006179,100,97,69.7,170.27,2.55,7.0\\nmataura,1574006179,100,91,-46.19,168.86,45.0,7.0\\nthompson,1574006179,90,92,55.74,-97.86,17.6,10.29\\nportobelo,1574005900,20,70,9.55,-79.65,86.0,2.24\\ndauphin,1574005900,90,100,51.15,-100.04,24.8,3.47\\ncastro,1574006179,75,76,-42.48,-73.76,55.4,9.17\\nzhigansk,1574006179,100,97,66.77,123.37,-11.2,4.21\\nsanta rosa,1574005900,2,26,-36.62,-64.29,90.39,11.3\\nsaint-philippe,1574006179,69,45,45.36,-73.48,25.0,3.36\\nbireun,1574005900,98,96,5.2,96.7,69.08,0.63\\nbhan,1574005900,87,36,26.56,67.72,75.92,4.74\\nsalalah,1574006179,20,57,17.01,54.1,80.6,9.17\\nbusselton,1574006179,11,59,-33.64,115.35,60.01,12.15\\ngrimshaw,1574005900,20,100,56.19,-117.61,36.0,5.82\\nshache,1574005901,22,50,38.42,77.24,39.99,6.06\\nte anau,1574005901,100,95,-45.41,167.72,38.55,4.16\\ncidreira,1574006180,0,65,-30.17,-50.22,68.36,8.9\\nport alfred,1574005901,40,79,-33.59,26.89,64.0,8.99\\nsao joao da barra,1574005901,75,57,-21.64,-41.05,80.6,3.09\\neast london,1574005901,75,63,-33.02,27.91,64.4,25.28\\nsao filipe,1574005901,34,80,14.9,-24.5,74.55,12.24\\nmaceio,1574005901,40,55,-9.67,-35.74,87.8,19.46\\ncuiluan,1574005901,100,63,47.72,128.65,15.82,4.03\\njamestown,1574006180,7,40,-33.21,138.6,57.06,4.5\\nyar-sale,1574006180,100,100,66.83,70.83,-16.28,11.32\\nkushima,1574005901,0,63,31.5,131.29,71.47,16.17\\nponta do sol,1574005901,48,64,-20.63,-46.0,79.77,4.16\\nsan patricio,1574005901,32,35,-26.98,-56.83,85.68,4.79\\nsamarai,1574005902,100,93,-10.62,150.67,75.06,2.93\\nyellowknife,1574006022,90,84,62.45,-114.38,6.8,12.75\\nkhatanga,1574006181,100,89,71.98,102.47,-13.2,5.7\\npunta arenas,1574005902,75,61,-53.16,-70.91,50.0,23.04\\ncape town,1574005703,20,48,-33.93,18.42,66.0,23.04\\ncabo san lucas,1574005810,75,94,22.89,-109.91,75.0,4.7\\nmana,1574006181,47,12,13.03,5.27,98.62,4.97\\nlos llanos de aridane,1574005902,75,77,28.66,-17.92,66.2,17.22\\nnoumea,1574006181,74,64,-22.28,166.46,78.01,2.24\\nkieta,1574005902,100,78,-6.22,155.63,81.21,4.94\\nnamwala,1574005902,30,30,-15.75,26.45,91.18,2.3\\nmayo,1574005902,90,84,63.59,-135.9,8.6,8.05\\nmahebourg,1574006181,75,88,-20.41,57.7,77.0,12.75\\nhouma,1574005902,0,17,35.63,111.36,32.94,12.01\\nmukdahan,1574005902,0,64,16.54,104.73,74.05,0.83\\nhavelock,1574005690,90,82,34.88,-76.9,57.2,26.4\\nnarsaq,1574006181,100,51,60.91,-46.05,37.4,31.09\\ntalnakh,1574006181,61,75,69.49,88.39,-13.0,11.18\\nbredasdorp,1574006182,78,48,-34.53,20.04,64.4,13.87\\niquitos,1574005903,75,74,-3.75,-73.25,82.4,3.36\\nnileshwar,1574005903,20,94,12.25,75.1,82.4,3.36\\nlebu,1574006182,95,60,8.96,38.73,60.82,3.27\\nsan juan bautista,1574005903,5,28,-26.67,-57.15,90.99,3.49\\nhofn,1574005903,0,52,64.25,-15.21,32.0,9.17\\nbaoqing,1574005903,100,66,46.32,132.2,18.73,9.42\\nhithadhoo,1574006182,17,77,-0.6,73.08,82.69,16.24\\nkomsomolskiy,1574005903,8,89,67.55,63.78,-8.91,7.34\\nindependence,1574005903,1,65,39.09,-94.42,48.0,10.29\\niqaluit,1574006182,40,72,63.75,-68.52,10.4,6.93\\nbandarbeyla,1574006182,94,80,9.49,50.81,80.67,23.04\\nqaanaaq,1574006182,0,59,77.48,-69.36,5.22,7.29\\nhearst,1574005757,100,84,49.69,-83.67,29.95,13.31\\nairai,1574006182,82,59,-8.93,125.41,67.26,2.95\\nfilimonovo,1574005903,100,82,54.21,39.6,41.0,3.0\\nport keats,1574005904,2,74,-14.25,129.55,82.72,7.05\\ngroningen,1574005800,100,86,53.22,6.57,42.01,4.7\\ngeorgetown,1574006084,75,74,6.8,-58.16,86.0,9.17\\nkaitangata,1574006183,100,87,-46.28,169.85,48.24,18.52\\nwalvis bay,1574005904,38,68,-22.95,14.51,66.2,8.05\\nmelilla,1574005904,20,74,-0.8,-80.23,80.6,11.41\\ngao,1574005904,65,13,16.28,-0.04,96.13,11.74\\nhilo,1574006183,40,83,19.71,-155.08,73.4,5.82\\nanloga,1574005904,20,74,5.79,0.9,87.8,9.17\\nesperance,1574006183,90,100,-33.86,121.89,59.0,11.41\\npaamiut,1574006183,100,85,61.99,-49.67,36.3,21.79\\nbluff,1574006183,0,62,-23.58,149.07,74.46,9.46\\nulaangom,1574006183,100,77,49.98,92.07,-0.47,4.47\\nneuquen,1574005904,70,23,-38.95,-68.06,73.4,9.17\\nfaanui,1574006183,89,86,-16.48,-151.75,78.39,18.5\\nvaitape,1574006183,89,86,-16.52,-151.75,78.39,18.5\\natuona,1574006184,31,74,-9.8,-139.03,79.09,14.03\\nseoni,1574005904,0,56,22.09,79.55,66.29,6.24\\nkeningau,1574005905,75,83,5.33,116.16,80.6,3.36\\npuerto ayora,1574005905,75,69,-0.74,-90.35,75.2,14.99\\ntiksi,1574006184,91,95,71.64,128.87,-2.02,5.53\\ncarnarvon,1574006184,15,10,-30.97,22.13,79.3,20.51\\nyinchuan,1574005905,0,9,38.48,106.21,24.01,1.01\\nbutaritari,1574006184,100,80,3.07,172.79,82.71,17.56\\nlavrentiya,1574006184,100,79,65.58,-170.99,22.87,14.74\\ndikson,1574006184,6,85,73.51,80.55,-8.72,4.27\\nprovideniya,1574006184,85,86,64.42,-173.23,15.12,7.96\\niquique,1574005905,21,53,-20.22,-70.14,71.6,14.99\\ncampbell river,1574005905,90,100,50.02,-125.24,50.0,8.05\\nlhanbryde,1574005905,20,93,57.64,-3.22,43.0,6.93\\nmizan teferi,1574005905,87,93,6.99,35.58,66.83,2.64\\nsola,1574006184,100,58,-3.17,33.8,75.72,5.41\\njuarez,1574005905,70,23,-38.95,-67.92,73.4,9.17\\nla rioja,1574005692,0,37,-29.41,-66.86,79.81,9.55\\nnemchinovka,1574005906,90,93,55.72,37.37,45.0,4.47\\nostrovnoy,1574006185,28,89,68.05,39.51,17.4,4.14\\nodessa,1574005906,1,53,31.85,-102.37,57.0,14.99\\nklaksvik,1574005906,83,60,62.23,-6.59,37.4,14.0\\nsan jose de rio tinto,1574005906,81,64,14.93,-85.7,75.45,4.16\\nvila velha,1574005906,40,58,-3.71,-38.6,87.8,17.22\\nsan carlos de bariloche,1574005906,75,58,-41.13,-71.31,55.4,35.57\\ntautira,1574006185,87,83,-17.73,-149.15,78.8,5.82\\nnuuk,1574005906,100,73,64.17,-51.74,24.01,8.99\\nkatsuura,1574006185,75,82,33.93,134.5,57.0,8.05\\ncayenne,1574006185,75,55,4.94,-52.33,91.4,13.87\\ngrindavik,1574006185,40,86,63.84,-22.43,33.8,5.82\\nmar del plata,1574005906,0,20,-46.43,-67.52,65.61,30.29\\nhamilton,1574005889,20,63,43.26,-79.87,36.0,8.05\\nleningradskiy,1574005906,100,91,69.38,178.42,17.4,10.69\\nhobart,1574006185,40,50,-42.88,147.33,51.8,17.22\\nsitka,1574006186,0,64,37.17,-99.65,48.0,8.01\\nkavieng,1574006186,100,77,-2.57,150.8,81.5,6.22\\nsinnamary,1574006186,50,76,5.38,-52.96,82.49,13.96\\nmatay,1574005907,87,35,28.42,30.79,73.6,11.23\\nmaralal,1574005907,99,58,1.1,36.7,71.42,18.28\\ncodrington,1574006186,90,88,-28.95,153.24,64.4,6.44\\nasmara,1574005907,0,68,15.34,38.93,72.95,6.22\\nla ronge,1574005907,90,92,55.1,-105.3,28.4,10.29\\nhenties bay,1574005907,2,79,-22.12,14.28,64.99,8.01\\nchernaya kholunitsa,1574005907,100,83,58.85,51.72,30.11,2.95\\nkhandyga,1574005907,99,97,62.65,135.58,-22.43,2.33\\nchokurdakh,1574006186,100,98,70.62,147.9,-11.13,6.67\\nalofi,1574006186,92,100,-19.06,-169.92,62.6,3.29\\nnorman wells,1574005907,75,83,65.28,-126.83,-4.0,3.36\\ntete,1574005907,40,62,-16.16,33.59,87.8,9.17\\ngalesong,1574005907,20,88,-5.32,119.37,80.6,1.12\\nmalayal,1574005907,75,94,7.21,121.94,77.0,1.12\\nchuy,1574006187,0,55,-33.69,-53.46,80.08,3.87\\norsha,1574005908,90,100,54.51,30.43,44.6,8.95\\nkropotkin,1574005908,0,62,45.43,40.58,48.38,16.26\\nrafai,1574005908,100,51,4.95,23.92,84.96,3.13\\nvostok,1574006187,82,73,46.45,135.83,11.82,4.41\\nnorthport,1574005908,1,66,33.23,-87.58,54.0,3.56\\nvaini,1574006187,67,77,15.34,74.49,71.71,5.88\\nancud,1574006187,75,76,-41.87,-73.83,55.4,9.17\\nrawson,1574005908,19,55,-43.3,-65.11,61.3,15.55\\nstate college,1574005908,90,37,40.79,-77.86,36.0,7.36\\neyl,1574005908,74,79,7.98,49.82,80.76,27.54\\ncherskiy,1574006187,89,97,68.75,161.3,-9.44,4.52\\nfestus,1574005908,1,93,38.22,-90.4,43.0,3.36\\nperth,1574005908,0,88,-31.95,115.86,68.0,6.93\\nyulara,1574006188,0,11,-25.24,130.99,75.2,6.93\\natar,1574006188,100,21,20.52,-13.05,80.6,6.93\\nalmaznyy,1574006188,0,75,48.03,40.04,46.4,13.42\\nguozhen,1574005908,100,61,29.3,113.14,53.8,23.17\\nkisoro,1574005909,100,94,-1.28,29.69,59.09,0.96\\nfloro,1574005753,50,80,61.6,5.03,39.2,9.17\\nangoche,1574005909,100,82,-16.23,39.91,78.91,4.32\\nantofagasta,1574005909,58,60,-23.65,-70.4,68.0,11.41\\nchaiyaphum,1574005909,1,79,15.81,102.03,73.62,2.26\\nupernavik,1574006188,0,56,72.79,-56.15,7.97,10.11\\nkodiak,1574006188,90,75,39.95,-94.76,48.0,9.17\\nmount pleasant,1574005909,1,65,33.16,-94.97,55.4,3.36\\naklavik,1574006188,90,83,68.22,-135.01,-5.8,3.36\\njishui,1574005909,100,85,27.23,115.13,68.83,15.61\\nbroken hill,1574005909,0,25,-31.97,141.45,62.6,4.7\\nkisangani,1574005909,100,95,0.52,25.21,77.27,2.24\\nlaunceston,1574005909,100,70,-41.43,147.14,50.0,14.99\\nperuibe,1574005909,0,64,-24.32,-47.0,72.32,6.73\\nfortuna,1574006189,90,100,40.6,-124.16,50.0,3.36\\ndong xoai,1574005872,81,97,11.53,106.92,72.84,3.71\\nla asuncion,1574005910,100,31,-26.05,-65.39,80.82,4.09\\nsorong,1574005910,67,98,-0.86,131.25,73.24,0.98\\narkhangelsk,1574005910,90,92,64.54,40.54,26.6,6.71\\nlongyearbyen,1574006189,40,68,78.22,15.63,28.4,11.41\\nkathmandu,1574005766,75,93,27.71,85.32,60.8,5.82\\nkualakapuas,1574005910,100,91,-3.01,114.39,76.84,1.03\\nmahanoro,1574005910,100,86,-19.9,48.8,80.71,19.26\\nisangel,1574005910,100,85,-19.55,169.27,73.78,13.15\\nsan cristobal,1574005910,85,85,14.68,-86.92,65.98,5.73\\nnovikovo,1574005910,31,88,51.15,37.89,35.22,5.08\\ncabral,1574005910,37,66,-42.91,-71.3,53.6,10.29\\ncarutapera,1574005910,76,75,-1.2,-46.02,82.27,16.4\\nbarrow,1574006189,100,40,-38.31,-60.23,80.29,15.12\\nribeira grande,1574005911,40,72,38.52,-28.7,68.0,10.29\\nkutum,1574005911,46,12,14.2,24.66,82.17,9.26\\ngarowe,1574006190,32,47,8.41,48.48,84.96,16.6\\nerie,1574005907,1,43,42.13,-80.09,37.99,12.75\\npuerto escondido,1574005911,5,69,15.86,-97.07,78.8,8.05\\nmecca,1574005911,100,71,21.43,39.83,74.93,2.17\\ntuatapere,1574006190,100,91,-46.13,167.69,45.0,7.0\\nconakry,1574005911,59,55,9.52,-13.7,88.92,6.26\\nport macquarie,1574005911,40,87,-31.43,152.91,59.0,1.12\\ntimmins,1574005911,75,73,48.48,-81.33,24.8,11.41\\nbaiyin,1574005911,0,85,36.55,104.13,17.6,6.71\\noranjestad,1574005911,20,70,12.52,-70.03,84.2,9.17\\nkapit,1574006190,100,98,2.02,112.94,72.73,0.69\\nkosmynino,1574005911,90,93,57.55,40.74,41.0,4.47\\nlagoa,1574006190,20,82,37.14,-8.45,68.0,16.11\\nguerrero negro,1574005912,0,80,27.97,-114.04,64.44,1.57\\nwangqing,1574005912,100,98,43.31,129.76,29.21,3.33\\nulaanbaatar,1574005814,18,68,47.92,106.92,-16.6,2.24\\npisco,1574006191,90,30,-13.71,-76.2,71.6,6.93\\npitimbu,1574005912,75,55,-7.47,-34.81,86.0,11.41\\nmitu,1574006191,0,45,36.2,46.09,31.93,10.09\\nalexandria,1574005912,100,67,43.97,25.33,61.41,12.55\\ntombouctou,1574005912,0,13,16.77,-3.01,92.39,9.86\\nojuelos de jalisco,1574005912,97,63,21.86,-101.59,58.28,2.98\\naykhal,1574005912,90,83,65.95,111.51,-9.4,6.02\\nmatara,1574005912,100,91,-3.48,29.48,65.01,2.26\\nrussell,1574005912,1,70,38.9,-98.86,46.99,9.17\\npoltavka,1574005912,100,96,54.36,71.76,29.82,13.49\\nslave lake,1574005912,90,92,55.28,-114.77,32.0,5.82\\ncortes,1574005912,97,77,9.28,126.19,81.21,6.2\\nport said,1574005913,98,42,25.34,30.55,73.47,9.42\\nlorengau,1574006191,100,79,-2.02,147.27,81.95,8.5\\nkruisfontein,1574006191,0,62,-34.0,24.73,61.27,26.57\\ndenpasar,1574005850,20,88,-8.65,115.22,82.4,5.82\\nchabahar,1574005913,100,43,25.29,60.65,72.86,4.21\\nbubaque,1574006191,100,69,11.28,-15.83,83.79,10.69\\npimenta bueno,1574005913,100,63,-11.68,-61.19,85.6,4.18\\nkrasnyy yar,1574005913,10,85,50.7,44.73,35.53,5.23\\ngeraldton,1574006192,90,97,49.72,-86.95,33.8,10.29\\nport-gentil,1574005913,40,79,-0.72,8.78,84.2,8.05\\nnacala,1574005913,100,75,-14.56,40.69,81.99,6.13\\nflinders,1574006192,90,82,-34.58,150.85,62.01,4.7\\nkattivakkam,1574005913,40,88,13.22,80.32,78.8,3.36\\nmelfi,1574006192,75,93,41.0,15.66,53.6,9.17\\nbowen,1574005913,54,88,-20.01,148.25,77.0,3.36\\ncollege,1574005914,90,77,64.86,-147.8,6.01,1.61\\nwhitehorse,1574005704,90,92,60.72,-135.06,26.01,4.7\\nsrednekolymsk,1574005914,99,97,67.46,153.71,-1.5,5.37\\nsorland,1574006192,40,65,67.67,12.69,41.0,12.75\\ngushikawa,1574005914,75,83,26.35,127.87,77.0,12.75\\nsangar,1574005914,100,98,63.92,127.47,-19.89,0.92\\nurambo,1574005914,99,48,-5.07,32.07,82.27,4.74\\nutmanzai,1574005914,40,63,34.19,71.76,66.2,4.7\\nportland,1574005621,40,63,43.66,-70.25,32.0,10.29\\ntricase,1574005914,40,88,39.93,18.36,66.99,11.41\\nplettenberg bay,1574005914,30,71,-34.05,23.37,61.34,16.24\\nriyadh,1574006157,75,40,24.63,46.72,69.8,10.29\\noranjemund,1574005914,0,61,-28.55,16.43,63.66,29.19\\nmildura,1574005914,51,44,-34.18,142.16,57.2,4.7\\nbiak,1574005914,0,69,-0.91,122.88,83.17,3.89\\nmount isa,1574005914,15,10,-20.73,139.49,80.6,10.29\\naksarka,1574006193,100,97,66.56,67.8,-15.97,13.85\\nshubarkuduk,1574005915,69,48,49.15,56.49,33.17,6.96\\nvung tau,1574005915,39,85,10.35,107.08,77.43,9.57\\nsaldanha,1574006193,100,92,41.42,-6.55,47.21,9.28\\nboende,1574005915,100,93,-0.28,20.88,77.67,0.56\\nhami,1574005915,4,22,42.84,93.51,21.43,5.06\\nsaint-gilles,1574005915,25,53,43.68,4.43,55.4,5.82\\nport hardy,1574005915,75,93,50.7,-127.42,53.6,9.17\\ncamacha,1574006193,20,60,33.08,-16.33,69.8,11.41\\njalu,1574006193,95,32,29.03,21.55,76.62,8.3\\nnishihara,1574005915,75,58,35.74,139.53,59.0,10.29\\nkunming,1574005915,0,71,25.04,102.71,57.0,4.47\\nhalf moon bay,1574005915,1,59,37.46,-122.43,62.6,6.93\\nalice springs,1574005915,0,19,-23.7,133.88,68.0,3.36\\nsunndalsora,1574005825,75,70,62.68,8.55,42.8,18.34\\ntorbay,1574005940,20,59,47.66,-52.73,37.99,28.86\\nsaint-francois,1574005915,75,81,46.42,3.91,44.6,6.93\\nhasaki,1574006194,40,71,35.73,140.83,51.8,6.93\\nbambous virieux,1574005916,75,88,-20.34,57.76,77.0,12.75\\nconstitucion,1574006194,90,100,23.99,-104.67,55.0,4.41\\nhavoysund,1574005916,16,63,71.0,24.66,30.2,17.22\\nturkan,1574005916,49,79,35.6,68.92,28.78,3.06\\nport lincoln,1574005916,64,82,-34.72,135.86,55.29,6.71\\nrong kwang,1574005916,0,85,18.34,100.32,68.29,0.81\\nyuzhno-kurilsk,1574005916,99,71,44.03,145.86,39.85,31.92\\nvictoria,1574006194,75,78,5.28,115.24,80.6,3.36\\nhengshui,1574005916,0,17,37.73,115.7,35.91,9.75\\nkahului,1574006164,75,83,20.89,-156.47,75.2,5.82\\nnassau,1574005916,75,93,46.81,15.34,53.01,3.36\\nrocha,1574006195,0,52,-34.48,-54.34,81.14,6.89\\nlao cai,1574005916,2,84,22.48,103.95,68.68,1.23\\nsan quintin,1574005916,100,88,17.54,120.52,74.16,4.81\\ncabedelo,1574006195,75,55,-6.97,-34.84,86.0,11.41\\nsaskylakh,1574006195,86,97,71.97,114.09,-8.41,7.09\\nskibbereen,1574005917,75,81,51.55,-9.27,42.8,16.11\\nrichards bay,1574005917,92,76,-28.77,32.06,71.01,12.86\\nkenai,1574006195,1,80,60.55,-151.26,34.0,6.93\\npopondetta,1574005917,100,97,-8.77,148.24,66.52,0.83\\nbaykit,1574006195,100,96,61.68,96.39,-15.95,5.1\\nwaddan,1574005917,0,29,29.16,16.14,70.07,21.88\\nhigh level,1574005917,90,100,58.52,-117.13,14.0,12.75\\nzheleznodorozhnyy,1574005917,40,87,55.75,38.0,45.0,4.47\\npativilca,1574005917,15,86,-10.7,-77.78,64.29,8.59\\nberingovskiy,1574006195,100,79,63.05,179.32,29.1,17.31\\nplainfield,1574005917,40,48,40.63,-74.41,42.01,13.87\\nboueni,1574005917,77,79,-12.9,45.08,84.2,9.17\\nahipara,1574006196,6,100,-35.17,173.16,64.0,1.01\\nchapais,1574005917,40,61,49.78,-74.86,17.6,11.41\\nshimoda,1574006196,100,64,34.7,138.93,55.99,14.03\\nburaydah,1574005917,40,77,26.33,43.97,68.0,10.29\\nnemuro,1574005917,61,69,43.32,145.57,39.83,27.67\\narraial do cabo,1574005636,75,65,-22.97,-42.02,77.0,13.87\\npuerto cabello,1574005918,5,85,10.47,-68.01,76.15,5.06\\nabancay,1574005918,51,62,-13.64,-72.88,59.81,5.08\\nsouillac,1574006196,90,93,45.6,-0.6,45.0,3.36\\npalauig,1574005918,100,87,15.44,119.9,74.25,3.42\\ndeputatskiy,1574006196,90,95,69.3,139.9,-5.01,3.78\\nrio grande,1574005910,0,25,-32.03,-52.1,84.99,5.82\\nchilia veche,1574005918,0,76,45.41,29.29,55.4,10.29\\nverkhnyaya inta,1574005918,100,95,65.99,60.32,16.45,4.18\\nlima,1574005814,90,82,-12.06,-77.04,68.0,11.41\\nwatsa,1574005918,100,91,3.04,29.53,74.93,2.51\\nmehamn,1574006196,28,85,71.03,27.85,19.4,8.05\\nvardo,1574006197,90,47,39.62,-77.74,39.0,6.93\\nyumen,1574005918,0,30,40.29,97.04,21.24,10.36\\nbelaya gora,1574005918,100,98,68.54,146.19,-4.94,2.21\\ndudinka,1574006197,41,75,69.41,86.18,-13.0,11.18\\nvegreville,1574005918,100,70,53.5,-112.05,39.99,5.01\\nlompoc,1574006197,1,53,34.64,-120.46,61.0,5.32\\ndalhousie,1574005918,1,57,48.06,-66.37,23.0,3.36\\nparamonga,1574005919,15,86,-10.68,-77.82,64.29,8.59\\nilulissat,1574006197,81,55,69.22,-51.1,11.61,5.73\\ngloucester,1574005919,75,93,51.87,-2.25,48.0,2.24\\nproletarsk,1574005919,0,68,46.7,41.72,47.79,12.93\\natbasar,1574005919,85,92,51.81,68.36,21.87,10.4\\nhambantota,1574005919,75,100,6.12,81.12,77.0,4.7\\nyangjiang,1574005919,0,90,21.85,111.96,68.34,2.73\\nsobolevo,1574006197,100,94,54.43,31.9,41.58,7.23\\nsur,1574006197,0,62,22.57,59.53,75.02,12.15\\nluderitz,1574006197,0,49,-26.65,15.16,71.6,32.21\\ntignere,1574005919,63,31,7.37,12.65,86.79,4.97\\nupington,1574006198,0,12,-28.46,21.24,87.8,12.75\\nbaghdad,1574005802,0,16,33.3,44.38,64.4,8.05\\nstraumen,1574005919,75,74,63.87,11.3,37.0,5.82\\npuyo,1574005919,40,58,-1.48,-78.0,82.4,5.82\\nmiraflores,1574005919,16,31,-16.39,-71.52,64.4,11.41\\nnamatanai,1574005919,83,78,-3.66,152.44,82.45,11.63\\nzaria,1574005920,100,13,11.11,7.72,91.92,8.25\\nhobyo,1574006198,70,71,5.35,48.53,82.35,19.64\\nixtapa,1574006198,90,94,20.71,-105.21,78.01,5.44\\naskino,1574005920,93,95,56.09,56.58,29.52,8.23\\nnorthfield,1574005920,75,93,52.41,-1.96,46.99,10.29\\ncaravelas,1574006198,100,63,-17.73,-39.27,83.25,10.0\\ncelestun,1574005920,36,55,20.87,-90.4,74.14,9.6\\nmotygino,1574005920,100,93,58.18,94.69,6.4,8.75\\natikokan,1574005920,100,93,48.76,-91.62,31.26,7.29\\nsabang,1574005920,100,86,13.8,121.11,81.0,5.01\\ntarauaca,1574005920,89,44,-8.16,-70.77,90.81,1.34\\ngrand-santi,1574005920,34,38,4.27,-54.38,92.71,4.07\\nnanzhou,1574005920,100,48,29.37,112.41,54.93,21.23\\ntakoradi,1574005920,68,70,4.89,-1.75,84.33,10.42\\nsept-iles,1574005913,20,57,50.2,-66.38,25.0,6.93\\nkawerau,1574005921,100,98,-38.09,176.7,62.01,1.01\\nflorence,1574005921,90,70,34.2,-79.77,50.0,14.99\\nla union,1574005921,20,19,14.97,-89.29,73.0,4.16\\nwilmington,1574005741,100,55,39.75,-75.55,41.0,8.05\\ncoquimbo,1574006199,40,72,-29.95,-71.34,64.4,14.99\\nbakchar,1574005921,100,95,57.02,82.07,22.03,7.49\\ngenoa,1574005921,75,66,44.41,8.93,55.4,16.11\\nsaint-denis,1574005921,90,70,48.94,2.36,46.99,10.29\\nbontang,1574005921,28,79,0.12,117.47,81.21,3.71\\nsattahip,1574005921,20,88,12.67,100.9,84.0,3.36\\nshima,1574005922,75,63,34.34,136.82,60.8,5.82\\notane,1574005922,100,71,-39.89,176.62,63.0,2.26\\npozo colorado,1574005922,0,15,-23.49,-58.8,103.89,1.97\\ncaruray,1574005922,20,83,10.31,119.01,80.6,2.24\\nmumford,1574005922,94,72,5.26,-0.76,85.64,8.61\\nhoniara,1574005922,40,94,-9.43,159.96,77.0,2.24\\nclyde river,1574005922,90,84,70.47,-68.59,8.6,19.46\\ndingle,1574005922,94,88,11.0,122.67,74.16,1.68\\nmaamba,1574005923,60,35,-17.36,27.22,89.44,4.27\\nagadez,1574005923,0,14,16.97,7.99,96.8,9.17\\nvagay,1574005923,98,95,57.94,69.02,21.96,6.6\\naltay,1574005923,2,65,47.83,88.13,-1.03,4.41\\nsaint-joseph,1574005923,0,57,43.56,6.97,55.0,17.22\\nkandrian,1574005923,100,97,-6.21,149.55,73.72,3.53\\nkarratha,1574006200,0,67,-20.74,116.85,81.36,13.33\\nsantiago,1574005923,100,96,16.69,121.54,71.17,1.66\\nmoram,1574005923,100,15,10.55,12.13,94.39,7.29\\nca mau,1574005923,49,94,9.18,105.15,74.98,3.33\\ntutoia,1574005923,75,66,-2.76,-42.27,87.8,13.87\\nsalinopolis,1574005908,100,77,-0.61,-47.36,82.35,18.68\\njumla,1574005924,0,41,29.28,82.18,40.5,5.79\\nabu dhabi,1574005924,12,30,24.47,54.37,82.4,3.36\\nsan borja,1574005924,86,37,-14.86,-66.75,98.58,1.32\\ntsabong,1574005924,82,11,-26.02,22.4,92.26,17.9\\nsilvino lobos,1574005924,100,95,12.33,124.85,75.16,2.95\\nmanyana,1574005924,90,82,-35.26,150.51,62.01,4.7\\nokhotsk,1574006201,30,75,59.36,143.24,-2.07,16.87\\nesmeraldas,1574005924,75,69,-19.76,-44.31,78.8,9.17\\nwinder,1574005671,90,54,33.99,-83.72,55.99,6.93\\nnanortalik,1574006201,100,79,60.14,-45.24,36.41,37.51\\nyanam,1574005924,40,66,16.73,82.22,84.2,2.24\\npenzance,1574006201,95,81,50.12,-5.53,50.0,14.99\\nfethiye,1574005925,75,82,36.62,29.12,64.4,3.36\\ntoora-khem,1574005925,100,85,52.47,96.11,-5.76,2.26\\nternate,1574005925,90,83,14.29,120.72,82.99,4.7\\narona,1574005925,75,100,45.76,8.56,45.0,2.24\\npakxan,1574005925,0,79,18.39,103.66,71.42,2.75\\ncoruripe,1574005925,1,66,-10.12,-36.18,81.55,20.8\\nshostka,1574005925,96,85,51.86,33.47,39.33,6.76\\nshelburne,1574005816,1,67,44.08,-80.2,32.0,6.22\\ntevaitoa,1574006202,97,85,-16.78,-151.5,78.22,19.28\\nsan ramon,1574005925,75,88,12.92,-85.84,68.0,18.34\\negvekinot,1574005925,38,93,66.32,-179.17,4.64,8.79\\nhailey,1574005925,5,68,43.52,-114.32,28.4,9.17\\nconcordia,1574005926,0,45,-31.4,-58.02,84.2,11.41\\npadang,1574006202,100,95,-0.92,100.36,68.25,2.75\\normara,1574005926,39,52,25.21,64.64,79.66,6.2\\nbarra do garcas,1574005926,75,69,-15.89,-52.26,80.6,20.8\\njasper,1574005926,1,57,33.83,-87.28,55.99,3.27\\nnome,1574006202,1,71,30.04,-94.42,57.0,3.22\\nsaint george,1574005926,75,82,39.45,22.34,60.8,4.7\\nbucerias,1574005926,90,94,20.76,-105.33,78.01,12.37\\nhirara,1574005926,50,83,24.8,125.28,78.58,19.17\\nesil,1574005926,80,92,51.96,66.41,24.31,10.11\\nde aar,1574005926,0,15,-30.65,24.01,79.93,20.18\\nmuros,1574005926,40,87,42.77,-9.06,60.01,11.41\\nagutaya,1574005927,86,78,11.15,120.94,82.24,7.18\\ngweta,1574005927,0,12,-20.21,25.26,98.35,7.7\\nwest wendover,1574005927,10,64,40.74,-114.07,40.59,0.38\\nirtyshskiy,1574005927,16,94,58.33,68.13,18.86,6.98\\nviedma,1574006203,0,24,-40.81,-62.99,73.69,21.74\\ngorontalo,1574005927,43,89,0.54,123.06,73.92,2.71\\nmandalgovi,1574006203,91,49,45.76,106.27,-2.81,7.56\\ncharters towers,1574005927,56,91,-20.07,146.27,67.89,1.43\\nturan,1574005927,100,93,52.15,93.92,-7.01,4.74\\nswellendam,1574005927,83,48,-34.02,20.44,64.4,13.87\\nginir,1574005927,29,77,7.14,40.71,60.57,4.21\\nlamu,1574005927,0,51,35.77,102.37,21.43,4.14\\nmuncar,1574005927,100,80,-8.43,114.34,81.34,7.25\\nilo,1574005927,5,87,-17.65,-71.34,65.77,9.84\\npuerto baquerizo moreno,1574005927,75,78,-0.9,-89.6,73.4,13.87\\nkarpathos,1574005927,40,83,35.51,27.21,71.6,11.41\\ngoderich,1574006203,33,64,43.74,-81.71,33.01,13.0\\njojoima,1574005928,100,58,7.88,-10.79,85.77,0.89\\nrundu,1574005928,91,15,-17.91,19.77,96.8,3.85\\nbuenos aires,1574005928,4,45,-34.61,-58.44,89.01,11.41\\nkedougou,1574005928,98,41,12.56,-12.19,93.2,6.93\\nmakakilo city,1574005928,1,94,21.35,-158.09,78.8,9.17\\nbakal,1574005928,100,92,54.94,58.81,25.97,11.7\\nmoju,1574005928,75,83,-1.89,-48.77,82.4,9.17\\nzhezkazgan,1574005928,0,31,47.8,67.71,29.48,8.5\\nwaingapu,1574005928,12,74,-9.65,120.26,82.96,11.86\\ndalbandin,1574005928,64,19,28.9,64.41,58.95,9.42\\nmacroom,1574005928,75,81,51.91,-8.96,46.4,16.11\\nkrasnoarmeysk,1574006204,90,93,56.12,38.15,45.0,6.71\\natambua,1574006204,93,81,-9.11,124.89,76.01,1.74\\nnecochea,1574005928,56,33,-38.55,-58.74,78.01,15.01\\nnortham,1574005929,0,88,-31.65,116.67,62.6,4.7\\nbathsheba,1574006204,40,66,13.22,-59.52,86.0,6.93\\ncockburn town,1574005632,40,70,21.46,-71.14,86.0,6.93\\ncalatayud,1574005929,69,36,41.35,-1.64,60.8,5.82\\nwestport,1574006156,75,60,41.14,-73.36,43.0,21.92\\nsan jeronimo,1574005929,57,60,-13.65,-73.37,59.49,7.76\\ngornyy,1574005929,100,87,51.76,48.54,32.99,6.42\\nport elizabeth,1574005929,90,60,39.31,-74.98,42.01,17.22\\nmorondava,1574005929,92,82,-20.3,44.28,79.0,6.29\\ntazovskiy,1574006205,0,87,67.47,78.7,-21.03,11.79\\nboa vista,1574005673,75,78,2.82,-60.67,80.6,3.36\\nbataipora,1574005929,0,31,-22.3,-53.27,93.25,4.85\\nfarah,1574005930,7,29,32.37,62.11,56.48,3.69\\nroswell,1574005859,1,53,33.39,-104.52,51.8,10.29\\nbarbacena,1574005930,90,77,-21.23,-43.77,68.0,10.29\\nurucara,1574005930,100,97,-2.54,-57.76,75.94,3.49\\nzyryanka,1574005930,100,97,65.73,150.89,-4.72,11.83\\nlebyazhye,1574005931,75,93,59.96,29.42,46.0,6.71\\ndaru,1574005931,100,93,-9.07,143.21,75.24,5.17\\nrupert,1574005931,1,79,42.62,-113.68,37.0,3.36\\nhammond,1574005931,1,53,30.5,-90.46,59.0,0.96\\nbaruun-urt,1574005931,100,80,46.68,113.28,-0.65,14.41\\ngrand gaube,1574005931,75,88,-20.01,57.66,77.0,12.75\\njeremie,1574005932,19,63,18.65,-74.12,79.97,1.34\\nevensk,1574005932,49,73,61.92,159.24,4.19,16.11\\nsisimiut,1574006206,100,56,66.94,-53.67,10.0,5.06\\nfomboni,1574006206,55,80,-12.28,43.74,81.52,6.89\\nquatre cocos,1574005932,75,88,-20.21,57.76,77.0,12.75\\npedernales,1574005932,90,70,0.07,-80.05,79.41,3.83\\nmahad,1574005932,0,67,18.08,73.42,75.79,4.21\\ntokonou,1574005932,78,48,9.65,-9.78,86.72,4.97\\nbucovice,1574005932,33,76,49.15,17.0,55.99,11.41\\nkrasnovishersk,1574005932,100,92,60.4,57.08,23.09,5.14\\nmengcheng,1574005932,100,37,33.26,116.57,52.95,13.31\\npangody,1574005932,21,94,65.85,74.49,-21.77,13.02\\npetatlan,1574005932,75,83,17.52,-101.27,78.8,5.53\\npiney green,1574005932,90,66,35.09,-78.48,48.99,6.93\\nleshukonskoye,1574006206,100,95,64.9,45.76,20.52,3.13\\nfairbanks,1574005832,90,77,64.84,-147.72,6.01,2.08\\nqaqortoq,1574005933,100,51,60.72,-46.03,37.4,31.09\\nmortka,1574005933,34,93,59.33,66.02,18.46,8.01\\nluena,1574005933,75,69,-11.78,19.91,80.6,5.82\\nkuusamo,1574005933,90,100,65.96,29.19,23.0,5.82\\nmao,1574005785,20,69,19.55,-71.08,86.0,5.82\\nalbion,1574005933,1,80,41.69,-98.0,42.01,12.75\\ngrand-lahou,1574005933,100,71,5.24,-5.0,83.82,8.43\\nluanda,1574005933,75,66,-8.83,13.24,86.0,13.87\\ntezu,1574005933,97,94,27.93,96.16,63.97,4.5\\nkitimat,1574005933,90,93,54.02,-128.69,51.8,29.97\\nnarasannapeta,1574005934,0,82,18.42,84.04,74.16,4.0\\ntouros,1574006207,75,55,-5.2,-35.46,86.0,14.99\\nred bluff,1574005691,1,60,40.18,-122.24,60.01,3.36\\nalta floresta,1574005934,75,83,-9.87,-56.08,80.6,3.36\\nport blair,1574005934,0,71,11.67,92.75,82.76,7.87\\nmondlo,1574005934,100,57,-27.96,30.72,75.54,12.8\\nsan policarpo,1574005934,100,86,12.18,125.51,78.19,5.79\\nsambava,1574006207,100,82,-14.27,50.17,77.68,2.24\\nhusavik,1574006208,68,90,50.56,-96.99,26.01,7.0\\ncururupu,1574006208,23,41,-1.82,-44.87,93.2,8.39\\nsaint anthony,1574005934,75,69,43.97,-111.68,35.6,2.26\\nyerbogachen,1574006208,0,96,61.28,108.01,-26.05,2.82\\nlongonjo,1574005934,40,36,-12.91,15.25,80.6,5.82\\ncauquenes,1574005727,75,31,-35.97,-72.32,71.71,6.6\\navera,1574005935,90,61,33.19,-82.53,53.01,8.05\\nkurilsk,1574005935,80,78,45.23,147.88,34.02,29.06\\nchernogorsk,1574005935,100,67,53.83,91.31,21.2,13.42\\nmanzanillo,1574005935,75,83,19.05,-104.32,80.6,5.82\\nhay river,1574005935,90,85,60.82,-115.79,10.4,11.41\\ndondo,1574005935,20,58,-19.62,34.74,84.2,18.34\\naden,1574005928,17,63,12.79,45.03,79.83,17.34\\nbaherden,1574005935,56,41,38.44,57.43,45.12,5.06\\noxford,1574005740,9,66,33.61,-85.83,55.99,3.27\\nvagur,1574005935,100,65,61.47,-6.81,44.08,18.21\\ngornopravdinsk,1574006208,99,95,60.06,69.92,17.44,6.33\\ncalabozo,1574005935,0,59,8.92,-67.43,89.37,1.3\\nondangwa,1574005935,100,10,-17.91,15.98,94.64,13.27\\nwokha,1574005935,10,98,26.1,94.25,56.95,1.95\\ngolden,1574005658,1,64,39.76,-105.22,43.0,5.82\\ndaraitan,1574005936,90,83,14.6,121.43,82.99,4.7\\nxingyi,1574005936,0,90,24.19,102.82,54.66,1.48\\npangai,1574005936,71,71,-19.8,-174.35,75.47,4.9\\nnorth berwick,1574005936,40,63,43.3,-70.73,33.01,10.29\\npanama city,1574005781,1,76,30.16,-85.65,60.01,8.05\\ncap malheureux,1574005936,75,88,-19.98,57.61,77.0,12.75\\n'"
      ]
     },
     "execution_count": 86,
     "metadata": {},
     "output_type": "execute_result"
    }
   ],
   "source": [
    "weather_df = pd.DataFrame(list(zip(final_cities,date,cloudiness,humidity,lat,lng,max_temp,wind_speed)), \n",
    "               columns =['City', 'Date','Cloudiness','Humidity','Latitude','Longitude','Max Temperature','Wind Speed'])\n",
    "\n",
    "weather_df.head()\n",
    "weather_df.to_csv(index=False)"
   ]
  },
  {
   "cell_type": "markdown",
   "metadata": {},
   "source": [
    "### Plotting the Data\n",
    "* Use proper labeling of the plots using plot titles (including date of analysis) and axes labels.\n",
    "* Save the plotted figures as .pngs."
   ]
  },
  {
   "cell_type": "code",
   "execution_count": 87,
   "metadata": {},
   "outputs": [],
   "source": [
    "lat2=weather_df['Latitude']\n",
    "temp2=weather_df['Max Temperature']"
   ]
  },
  {
   "cell_type": "markdown",
   "metadata": {},
   "source": [
    "#### Latitude vs. Temperature Plot"
   ]
  },
  {
   "cell_type": "code",
   "execution_count": 94,
   "metadata": {},
   "outputs": [
    {
     "data": {
      "text/plain": [
       "Text(0, 0.5, 'Temp (F)')"
      ]
     },
     "execution_count": 94,
     "metadata": {},
     "output_type": "execute_result"
    },
    {
     "data": {
      "image/png": "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\n",
      "text/plain": [
       "<Figure size 432x288 with 1 Axes>"
      ]
     },
     "metadata": {
      "needs_background": "light"
     },
     "output_type": "display_data"
    }
   ],
   "source": [
    "plt.scatter(lat2,temp2)\n",
    "plt.title(\"City Latitude vs Max Temperature\")\n",
    "plt.grid()\n",
    "plt.xlabel(\"Latitude\")\n",
    "plt.ylabel(\"Temp (F)\")"
   ]
  },
  {
   "cell_type": "markdown",
   "metadata": {},
   "source": [
    "#### Latitude vs. Humidity Plot"
   ]
  },
  {
   "cell_type": "code",
   "execution_count": 96,
   "metadata": {},
   "outputs": [],
   "source": [
    " hum2=weather_df['Humidity']"
   ]
  },
  {
   "cell_type": "code",
   "execution_count": 98,
   "metadata": {},
   "outputs": [
    {
     "data": {
      "text/plain": [
       "Text(0, 0.5, 'Humidity')"
      ]
     },
     "execution_count": 98,
     "metadata": {},
     "output_type": "execute_result"
    },
    {
     "data": {
      "image/png": "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\n",
      "text/plain": [
       "<Figure size 432x288 with 1 Axes>"
      ]
     },
     "metadata": {
      "needs_background": "light"
     },
     "output_type": "display_data"
    }
   ],
   "source": [
    "plt.scatter(lat2,hum2)\n",
    "plt.title(\"City Latitude vs Humidity\")\n",
    "plt.grid()\n",
    "plt.xlabel(\"Latitude\")\n",
    "plt.ylabel(\"Humidity\")"
   ]
  },
  {
   "cell_type": "markdown",
   "metadata": {},
   "source": [
    "#### Latitude vs. Cloudiness Plot"
   ]
  },
  {
   "cell_type": "code",
   "execution_count": 100,
   "metadata": {},
   "outputs": [],
   "source": [
    "cloud2=weather_df['Cloudiness']"
   ]
  },
  {
   "cell_type": "code",
   "execution_count": 101,
   "metadata": {},
   "outputs": [
    {
     "data": {
      "text/plain": [
       "Text(0, 0.5, 'Cloudiness')"
      ]
     },
     "execution_count": 101,
     "metadata": {},
     "output_type": "execute_result"
    },
    {
     "data": {
      "image/png": "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\n",
      "text/plain": [
       "<Figure size 432x288 with 1 Axes>"
      ]
     },
     "metadata": {
      "needs_background": "light"
     },
     "output_type": "display_data"
    }
   ],
   "source": [
    "plt.scatter(lat2,cloud2)\n",
    "plt.title(\"City Latitude vs CLoudiness\")\n",
    "plt.grid()\n",
    "plt.xlabel(\"Latitude\")\n",
    "plt.ylabel(\"Cloudiness\")"
   ]
  },
  {
   "cell_type": "markdown",
   "metadata": {},
   "source": [
    "#### Latitude vs. Wind Speed Plot"
   ]
  },
  {
   "cell_type": "code",
   "execution_count": 102,
   "metadata": {},
   "outputs": [],
   "source": [
    "wind2 = weather_df['Wind Speed']"
   ]
  },
  {
   "cell_type": "code",
   "execution_count": 103,
   "metadata": {},
   "outputs": [
    {
     "data": {
      "text/plain": [
       "Text(0, 0.5, 'Windiness')"
      ]
     },
     "execution_count": 103,
     "metadata": {},
     "output_type": "execute_result"
    },
    {
     "data": {
      "image/png": "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\n",
      "text/plain": [
       "<Figure size 432x288 with 1 Axes>"
      ]
     },
     "metadata": {
      "needs_background": "light"
     },
     "output_type": "display_data"
    }
   ],
   "source": [
    "plt.scatter(lat2,wind2)\n",
    "plt.title(\"City Latitude vs Windiness\")\n",
    "plt.grid()\n",
    "plt.xlabel(\"Latitude\")\n",
    "plt.ylabel(\"Windiness\")"
   ]
  },
  {
   "cell_type": "code",
   "execution_count": null,
   "metadata": {},
   "outputs": [],
   "source": []
  }
 ],
 "metadata": {
  "anaconda-cloud": {},
  "kernel_info": {
   "name": "python3"
  },
  "kernelspec": {
   "display_name": "Python 3",
   "language": "python",
   "name": "python3"
  },
  "language_info": {
   "codemirror_mode": {
    "name": "ipython",
    "version": 3
   },
   "file_extension": ".py",
   "mimetype": "text/x-python",
   "name": "python",
   "nbconvert_exporter": "python",
   "pygments_lexer": "ipython3",
   "version": "3.7.3"
  },
  "nteract": {
   "version": "0.12.3"
  }
 },
 "nbformat": 4,
 "nbformat_minor": 2
}
